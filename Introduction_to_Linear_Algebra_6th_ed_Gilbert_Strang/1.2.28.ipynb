{
 "cells": [
  {
   "cell_type": "markdown",
   "metadata": {},
   "source": [
    "### Using v=randn(3,1) in MATLAB, create a random unit vector u=v/||v||. Using V=randn(3,30) create 30 more random unit vectors Uj.\n",
    "### What is the average size of the dot products |u*Uj|? In calculus, the average is integral(pi-0) of |cosO|dO/pi = 2/pi."
   ]
  },
  {
   "cell_type": "code",
   "execution_count": 100,
   "metadata": {},
   "outputs": [],
   "source": [
    "'''We import the packages to use in the script'''\n",
    "import random\n",
    "import numpy as np\n",
    "import math"
   ]
  },
  {
   "cell_type": "code",
   "execution_count": 101,
   "metadata": {},
   "outputs": [],
   "source": [
    "'''Here we create our vector (3,1)'''\n",
    "vector = []\n",
    "b_initial = 0\n",
    "raiz_b = 0\n",
    "u_vector = []\n",
    "\n",
    "for i in range(3):\n",
    "    i = random.uniform(0, 1)\n",
    "    vector.append(i)\n",
    "    b_initial = b_initial + i**2\n",
    "\n",
    "raiz_b = np.sqrt(b_initial)\n",
    "\n",
    "u_vector = list(np.array(vector)/raiz_b)\n",
    "\n",
    "'''With this, we comprobate our vector u is an unit vector '''\n",
    "b_initial = 0\n",
    "for i in u_vector:\n",
    "    b_initial = b_initial + i**2\n",
    "raiz_b = np.sqrt(b_initial)"
   ]
  },
  {
   "cell_type": "code",
   "execution_count": 102,
   "metadata": {},
   "outputs": [
    {
     "name": "stdout",
     "output_type": "stream",
     "text": [
      "0.8762340696979471\n"
     ]
    }
   ],
   "source": [
    "'''Repeat the operation of create (3,1) vector 30 times'''\n",
    "iterations = 30\n",
    "suma_dp = 0\n",
    "j_vector = []\n",
    "g_initial = 0\n",
    "raiz_g = 0\n",
    "u_J_vector = []\n",
    "b_initial = 0\n",
    "raiz_b = 0\n",
    "dot_product = 0\n",
    "average = 0\n",
    "\n",
    "for j in range(iterations):\n",
    "    \n",
    "    '''Create a vector (3,1)'''\n",
    "    j_vector = []\n",
    "    g_initial = 0\n",
    "    for k in range(3):\n",
    "        k = random.uniform(0, 1)\n",
    "        j_vector.append(k)\n",
    "        g_initial = g_initial + k**2\n",
    "    #j_vector.append(0)\n",
    "    raiz_g = np.sqrt(g_initial)\n",
    "\n",
    "    '''Here divide the vector V by ||V||, to optain the vector unitary J'''\n",
    "    u_J_vector = list(np.array(j_vector)/raiz_g)\n",
    "\n",
    "    '''Comprobate our vector J is an unit vector'''\n",
    "    b_initial = 0\n",
    "    for i in u_J_vector:\n",
    "        b_initial = b_initial + i**2\n",
    "    raiz_b = np.sqrt(b_initial)\n",
    "    #print(raiz_b)\n",
    "\n",
    "    '''Finally, dot product u(3,1)*U(3,1)'''\n",
    "    dot_product = 0\n",
    "    function = 0 \n",
    "    for n in range(len(u_vector)):\n",
    "        dot_product = dot_product + u_vector[n]*u_J_vector[n]\n",
    "        #print(u_J_vector[n])\n",
    "        #print(u_vector[n])\n",
    "\n",
    "    '''Sume of every dot product '''\n",
    "    suma_dp = suma_dp + dot_product\n",
    "\n",
    "#print(suma_dp)\n",
    "'''Average of 30 time dot product'''    \n",
    "average = suma_dp/iterations\n",
    "print(average)"
   ]
  }
 ],
 "metadata": {
  "kernelspec": {
   "display_name": "base",
   "language": "python",
   "name": "python3"
  },
  "language_info": {
   "codemirror_mode": {
    "name": "ipython",
    "version": 3
   },
   "file_extension": ".py",
   "mimetype": "text/x-python",
   "name": "python",
   "nbconvert_exporter": "python",
   "pygments_lexer": "ipython3",
   "version": "3.9.12"
  },
  "orig_nbformat": 4
 },
 "nbformat": 4,
 "nbformat_minor": 2
}
