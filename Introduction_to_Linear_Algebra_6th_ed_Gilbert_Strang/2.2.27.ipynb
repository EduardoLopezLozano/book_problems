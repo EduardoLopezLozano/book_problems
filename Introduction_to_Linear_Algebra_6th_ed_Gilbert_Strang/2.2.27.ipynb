{
 "cells": [
  {
   "cell_type": "markdown",
   "metadata": {},
   "source": [
    "### Show that A = 4\\*eye(4) - ones(4,4) is not invertible: Multiply A\\*ones(4,1)"
   ]
  },
  {
   "cell_type": "code",
   "execution_count": 21,
   "metadata": {},
   "outputs": [],
   "source": [
    "'''We import the packages to use in the script'''\n",
    "import numpy as np"
   ]
  },
  {
   "cell_type": "code",
   "execution_count": 22,
   "metadata": {},
   "outputs": [
    {
     "name": "stdout",
     "output_type": "stream",
     "text": [
      "[[ 0. -1. -1. -1.]\n",
      " [-1.  0. -1. -1.]\n",
      " [-1. -1.  0. -1.]\n",
      " [-1. -1. -1.  0.]]\n"
     ]
    }
   ],
   "source": [
    "'''We create our matrix 4 by 4'''\n",
    "A = np.eye(4) - np.ones((4,4))\n",
    "print(A)\n"
   ]
  },
  {
   "cell_type": "code",
   "execution_count": 23,
   "metadata": {},
   "outputs": [
    {
     "name": "stdout",
     "output_type": "stream",
     "text": [
      "[[-3.]\n",
      " [-3.]\n",
      " [-3.]\n",
      " [-3.]]\n"
     ]
    }
   ],
   "source": [
    "x = np.ones((4,1))\n",
    "b = A @ x \n",
    "print(b)"
   ]
  },
  {
   "cell_type": "markdown",
   "metadata": {},
   "source": [
    "A is invertible because _x = A<sup>-1</sup>Ax = A<sup>-1</sup>b_ for that reason there is a matrix that multipy by A<sup>-1</sup> gives x in this case is ones(4,1) in this case is the followin matrix "
   ]
  },
  {
   "cell_type": "code",
   "execution_count": 24,
   "metadata": {},
   "outputs": [
    {
     "name": "stdout",
     "output_type": "stream",
     "text": [
      "[[ 0.66666667 -0.33333333 -0.33333333 -0.33333333]\n",
      " [-0.33333333  0.66666667 -0.33333333 -0.33333333]\n",
      " [-0.33333333 -0.33333333  0.66666667 -0.33333333]\n",
      " [-0.33333333 -0.33333333 -0.33333333  0.66666667]]\n"
     ]
    }
   ],
   "source": [
    "Inverse = np.array([[2/3,-1/3,-1/3,-1/3],[-1/3,2/3,-1/3,-1/3],[-1/3,-1/3,2/3,-1/3],[-1/3,-1/3,-1/3,2/3]])\n",
    "print(Inverse)"
   ]
  },
  {
   "cell_type": "code",
   "execution_count": 25,
   "metadata": {},
   "outputs": [
    {
     "name": "stdout",
     "output_type": "stream",
     "text": [
      "[[ 0.66666667 -0.33333333 -0.33333333 -0.33333333]\n",
      " [-0.33333333  0.66666667 -0.33333333 -0.33333333]\n",
      " [-0.33333333 -0.33333333  0.66666667 -0.33333333]\n",
      " [-0.33333333 -0.33333333 -0.33333333  0.66666667]] by [[-3.]\n",
      " [-3.]\n",
      " [-3.]\n",
      " [-3.]] is equal to x\n",
      "\n",
      "and [[ 0. -1. -1. -1.]\n",
      " [-1.  0. -1. -1.]\n",
      " [-1. -1.  0. -1.]\n",
      " [-1. -1. -1.  0.]] by [[1.]\n",
      " [1.]\n",
      " [1.]\n",
      " [1.]]  is equal to b\n",
      "\n"
     ]
    }
   ],
   "source": [
    "print(f\"{Inverse} by {b} is equal to x\\n\")\n",
    "print(f\"and {A} by {x}  is equal to b\\n\")"
   ]
  }
 ],
 "metadata": {
  "kernelspec": {
   "display_name": "base",
   "language": "python",
   "name": "python3"
  },
  "language_info": {
   "codemirror_mode": {
    "name": "ipython",
    "version": 3
   },
   "file_extension": ".py",
   "mimetype": "text/x-python",
   "name": "python",
   "nbconvert_exporter": "python",
   "pygments_lexer": "ipython3",
   "version": "3.9.12"
  }
 },
 "nbformat": 4,
 "nbformat_minor": 2
}
