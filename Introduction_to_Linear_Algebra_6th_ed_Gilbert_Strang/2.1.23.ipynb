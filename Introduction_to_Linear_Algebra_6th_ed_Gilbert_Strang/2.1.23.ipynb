{
 "cells": [
  {
   "cell_type": "markdown",
   "metadata": {},
   "source": [
    "### Find experimentally the average 1st and 2nd and 3rd pivot sizes from MATLAB's _[L,U]_ = **lu(rand(3))** with random entries betwen 0 and 1. The average of _U(1,1)_ is above 1/2 because **lu** picks the largest pivot in column 1."
   ]
  },
  {
   "cell_type": "code",
   "execution_count": 1,
   "metadata": {},
   "outputs": [],
   "source": [
    "'''We import the packages to use in the script'''\n",
    "import random\n",
    "import math\n",
    "import copy"
   ]
  },
  {
   "cell_type": "code",
   "execution_count": 2,
   "metadata": {},
   "outputs": [
    {
     "name": "stdout",
     "output_type": "stream",
     "text": [
      "[[0.6004777044053314, 0.3409460528132259, 0.5073253856382077], [0.7170183868802407, 0.984893095889143, 0.4487881853690424], [0.058755114757687465, 0.4015859668101266, 0.1427600846005488]]\n"
     ]
    }
   ],
   "source": [
    "'''We create our matrix 3 by 3'''\n",
    "def matriz(row,columns):\n",
    "    matrix = []\n",
    "    for j in range(row):\n",
    "        vector = []\n",
    "        for i in range(columns):\n",
    "            i = random.uniform(0, 1)\n",
    "            vector.append(i)\n",
    "        matrix.append(vector)\n",
    "    return matrix\n",
    "\n",
    "matrix = matriz(3,3)\n",
    "U = copy.deepcopy(matrix)\n",
    "L = [[1,0,0],[0,1,0],[0,0,1]]\n",
    "print(matrix)"
   ]
  },
  {
   "cell_type": "code",
   "execution_count": 3,
   "metadata": {},
   "outputs": [
    {
     "name": "stdout",
     "output_type": "stream",
     "text": [
      "[[0.6004777044053314, 0.3409460528132259, 0.5073253856382077], [0.0, 0.5777762504045565, -0.15699888543310547], [0.0, 0.0, 0.19317737528754397]]\n"
     ]
    }
   ],
   "source": [
    "'''We obtain the upper triangule from the matrix'''\n",
    "\n",
    "times = U[1][0]/U[0][0]\n",
    "ind_1 = times\n",
    "for i in range(1,2):\n",
    "    for j in range(3):\n",
    "        U[i][j] = U[i][j] - (times)*U[i-1][j]\n",
    "\n",
    "times = U[2][0]/U[0][0]\n",
    "ind_2 = times\n",
    "for i in range(2,3):\n",
    "    for j in range(3):\n",
    "        U[i][j] = U[i][j] - (times)*U[i-2][j]\n",
    "\n",
    "times = U[2][1]/U[1][1]\n",
    "ind_3 = times\n",
    "for i in range(2,3):\n",
    "    for j in range(3):\n",
    "        U[i][j] = U[i][j] - (times)*U[i-1][j]\n",
    "            \n",
    "    \n",
    "print(U)"
   ]
  },
  {
   "cell_type": "code",
   "execution_count": 4,
   "metadata": {},
   "outputs": [
    {
     "name": "stdout",
     "output_type": "stream",
     "text": [
      "[[1, 0, 0], [1.194079949380173, 1, 0], [0.09784728779542975, 0.6373147390533365, 1]]\n"
     ]
    }
   ],
   "source": [
    "'''We obtain lower triangule'''\n",
    "\n",
    "L[1][0] = ind_1\n",
    "L[2][0] = ind_2\n",
    "L[2][1] = ind_3\n",
    "        \n",
    "print(L)"
   ]
  },
  {
   "cell_type": "code",
   "execution_count": 5,
   "metadata": {},
   "outputs": [
    {
     "name": "stdout",
     "output_type": "stream",
     "text": [
      "Average pivot 1 is: 0.8002388522026658\n",
      "Average pivot 2 is: 0.7888881252022782\n",
      "Average pivot 3 is: 0.596588687643772\n"
     ]
    }
   ],
   "source": [
    "for i in range(3):\n",
    "    avg_pivot = (U[i][i] + 1)/2\n",
    "    print(f\"Average pivot {i+1} is: {avg_pivot}\")\n"
   ]
  }
 ],
 "metadata": {
  "kernelspec": {
   "display_name": "base",
   "language": "python",
   "name": "python3"
  },
  "language_info": {
   "codemirror_mode": {
    "name": "ipython",
    "version": 3
   },
   "file_extension": ".py",
   "mimetype": "text/x-python",
   "name": "python",
   "nbconvert_exporter": "python",
   "pygments_lexer": "ipython3",
   "version": "3.9.12"
  },
  "orig_nbformat": 4
 },
 "nbformat": 4,
 "nbformat_minor": 2
}
