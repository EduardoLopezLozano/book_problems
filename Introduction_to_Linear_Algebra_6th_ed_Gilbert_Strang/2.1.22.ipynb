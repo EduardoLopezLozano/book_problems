{
 "cells": [
  {
   "cell_type": "markdown",
   "metadata": {},
   "source": [
    "### Create a MATLAB command A(2, : ) = ... for the new row 2, to substract 3 times row 1 from the existing row 2 if the 3 by 3 matrix A is already known"
   ]
  },
  {
   "cell_type": "code",
   "execution_count": null,
   "metadata": {},
   "outputs": [],
   "source": [
    "'''We import the packages to use in the script'''\n",
    "import random\n",
    "import numpy as np\n",
    "import math"
   ]
  },
  {
   "cell_type": "code",
   "execution_count": null,
   "metadata": {},
   "outputs": [],
   "source": [
    "'''We create our matrix 3 by 3'''\n",
    "matrix = []\n",
    "for j in range(3):\n",
    "    vector = []\n",
    "    for i in range(3):\n",
    "        i = random.uniform(0, 1)\n",
    "        vector.append(i)\n",
    "    matrix.append(vector)\n",
    "print(matrix)"
   ]
  },
  {
   "cell_type": "code",
   "execution_count": null,
   "metadata": {},
   "outputs": [],
   "source": [
    "'''We realize the substractions of the row 1, 3 times into row 2'''\n",
    "n = 3\n",
    "matrix[1][0] = matrix[1][0] - n*matrix[0][0]\n",
    "matrix[1][1] = matrix[1][1] - n*matrix[0][1]\n",
    "matrix[1][2] = matrix[1][2] - n*matrix[0][2]\n",
    "\n",
    "print(matrix)"
   ]
  },
  {
   "cell_type": "code",
   "execution_count": null,
   "metadata": {},
   "outputs": [],
   "source": [
    "'''Solution with a For loop'''\n",
    "times = 3\n",
    "print(matrix)\n",
    "for i in range(1,2):\n",
    "    for j in range(3):\n",
    "        matrix[i][j] = matrix[i][j] - times*matrix[i-1][j]\n",
    "print(matrix)"
   ]
  }
 ],
 "metadata": {
  "kernelspec": {
   "display_name": "base",
   "language": "python",
   "name": "python3"
  },
  "language_info": {
   "codemirror_mode": {
    "name": "ipython",
    "version": 3
   },
   "file_extension": ".py",
   "mimetype": "text/x-python",
   "name": "python",
   "nbconvert_exporter": "python",
   "pygments_lexer": "ipython3",
   "version": "3.9.12"
  },
  "orig_nbformat": 4
 },
 "nbformat": 4,
 "nbformat_minor": 2
}
